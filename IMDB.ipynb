{
 "cells": [
  {
   "cell_type": "markdown",
   "metadata": {},
   "source": [
    "# Sentiment analysis using IMDB dataset"
   ]
  },
  {
   "cell_type": "code",
   "execution_count": 19,
   "metadata": {},
   "outputs": [],
   "source": [
    "import numpy as np\n",
    "from glob import glob\n",
    "import os\n",
    "import matplotlib.pyplot as plt\n",
    "from sklearn import svm\n",
    "import zipfile\n",
    "from tqdm import tqdm\n",
    "from nltk.tokenize import word_tokenize\n",
    "from sklearn.model_selection import train_test_split\n",
    "from sklearn.feature_extraction.text import TfidfVectorizer\n",
    "import re\n",
    "from scipy import sparse\n",
    "import nltk\n",
    "import lime\n",
    "\n",
    "# Download any necessary nltk files for nlp\n",
    "nltk.download('punkt')"
   ]
  },
  {
   "cell_type": "markdown",
   "metadata": {},
   "source": [
    "# Get data"
   ]
  },
  {
   "cell_type": "code",
   "execution_count": 3,
   "metadata": {},
   "outputs": [],
   "source": [
    "zip_file_path = './data/imdb_dataset.zip'\n",
    "extract_dir = './data/'\n",
    "data_dir = 'imdb_dataset'"
   ]
  },
  {
   "cell_type": "code",
   "execution_count": 4,
   "metadata": {},
   "outputs": [],
   "source": [
    "# Extract all the files \n",
    "zip_ref = zipfile.ZipFile(zip_file_path, 'r')\n",
    "zip_ref.extractall(extract_dir)\n",
    "zip_ref.close()"
   ]
  },
  {
   "cell_type": "markdown",
   "metadata": {},
   "source": [
    "## Data Processing & Cleaning\n",
    "\n",
    "Let's begin by reading in all of our text files. We'll create their label according to their sentiment, either positive or negative. In addition we'll preprocess all the nexts by removing all non-alpha numeric characters. "
   ]
  },
  {
   "cell_type": "code",
   "execution_count": 5,
   "metadata": {},
   "outputs": [
    {
     "name": "stderr",
     "output_type": "stream",
     "text": [
      "100%|██████████| 12500/12500 [00:00<00:00, 19565.81it/s]\n",
      "100%|██████████| 12500/12500 [00:00<00:00, 19556.72it/s]\n",
      "100%|██████████| 12500/12500 [00:00<00:00, 19833.06it/s]\n",
      "100%|██████████| 12500/12500 [00:00<00:00, 20140.15it/s]\n"
     ]
    }
   ],
   "source": [
    "# Regex to remove all Non-Alpha Numeric \n",
    "SPECIAL_CHARS = re.compile(r'([^a-z\\d!?.\\s])', re.IGNORECASE)\n",
    "\n",
    "def read_texts(glob_to_texts):\n",
    "    texts = []\n",
    "    labels = []\n",
    "    label = int(\"pos\" in glob_to_texts)\n",
    "    for text_name in tqdm(glob(glob_to_texts)):\n",
    "        with open(text_name, 'r') as text:\n",
    "            # Removing all non-alphanumeric\n",
    "            filter_text = SPECIAL_CHARS.sub('',  text.read())\n",
    "            texts.append(filter_text)\n",
    "            labels.append(label)\n",
    "    return texts, labels\n",
    "\n",
    "# Get all training data\n",
    "train_pos_data = read_texts(os.path.join(data_dir, \"train/pos/*.txt\"))\n",
    "train_neg_data = read_texts(os.path.join(data_dir, \"train/neg/*.txt\"))\n",
    "\n",
    "# Get all test data\n",
    "test_pos_data = read_texts(os.path.join(data_dir, \"test/pos/*.txt\"))\n",
    "test_neg_data = read_texts(os.path.join(data_dir, \"test/neg/*.txt\"))\n",
    "\n",
    "train_texts = train_pos_data[0] + train_neg_data[0]\n",
    "train_labels = train_pos_data[1] + train_neg_data[1]\n",
    "\n",
    "test_texts = test_pos_data[0] + test_neg_data[0]\n",
    "test_labels = test_pos_data[1] + test_neg_data[1]"
   ]
  },
  {
   "cell_type": "markdown",
   "metadata": {},
   "source": [
    "## Sample Texts\n",
    "\n",
    "Before we dive into actually building a model, let's take a look at our data. What does a positive example look like, and what does a negative example look like?"
   ]
  },
  {
   "cell_type": "code",
   "execution_count": 6,
   "metadata": {},
   "outputs": [
    {
     "name": "stdout",
     "output_type": "stream",
     "text": [
      "Positive Sentiment example\n",
      "This is one of my favourite martial arts movies from Hong Kong. It is one of John Woos earliest films and one of only a few traditional martial arts movies he directed. You can see his influences from working under Chang Cheh in this film. The action is good the fight choreography is conducted by Fong Hak On who appears as one of the bad guys in the movie. It stars Wei Pei of Five Venoms fame and a whole host of faces familiar to fans of Golden Harvest and Shaw Brothers productions. The story line is interesting there are a few decent plot twists and the build up of the characters and their relationships with each other is cleverly done. This film has only had a VHS release in the UK. Media Asia have released a region 3 DVD and there are versions of it on DVD available from the USA. The film is lovely to watch in either its original language or in its English dubbed version. I highly recommend this movie.\n",
      "---------------------------\n",
      "Negative Sentiment example\n",
      "Luckily I did not pay to see this movie. Also I cannot even reveal any spoilers because I willingly WALKED OUT after forty minutes of the movie. It was that bad. I laughed once when the Yahoo! billboard fell on the guy and the theme song came on. However that was only because I thought it was making fun of it but then I realized it was yet ANOTHER product placement. br br I loved the cartoon. I used to watch it almost religiously. although i missed the last episode. I heard that they show Dr. Claw and it was nothing more than a Claw somebody comment on the shows page The cartoon had Penny and Brain alot more than the movie had as to that point. I hated the setup of the whole thing reminiscent of Robocop. Then Broderick screws with the whole feeling of Inspector Gadget. He is not nearly as clumsy as the cartoon was. Another fact is his gadgets actually work to the point I saw except for the oil slick. He also screwed with the tone of Wowsers which used to be in an excited tone. I felt so disappointed that they slaughtered the cartoon so badly. Everybody else felt that way too. Us 1417 year olds remember the cartoon fondly and we loved every minute of it.br br I went into the movie with an open mind knowing that they would have screwed with the cartoon. I was taken aback at how retarded the movie was. It relied on sight gags and stupid dialogue for humor. Disney relies on pain and physical humor to push a kids movie along. Product placement is pointless in this film and it shows. The wisecracking car is not that good at cracking wise. The gadgets look nice but they were almost overly glossy. The cartoon was a better look. The silly scenes were crap. In the 4045 minutes I watched the movie not one laugh was heard and they laughed at the DudleyDoRight preview. This movie should not be watched by people who want intelligence in their family entertainment. I highly recommend The Iron Giant which was sad but very very good. This movie is a travesty to the whole family drama.1\n"
     ]
    }
   ],
   "source": [
    "train_pos_sample_ind = np.random.randint(len(train_pos_data[0]))\n",
    "train_neg_sample_ind = np.random.randint(len(train_neg_data[0]))\n",
    "\n",
    "print(\"Positive Sentiment example\")\n",
    "print(train_pos_data[0][train_pos_sample_ind])\n",
    "print(\"---------------------------\")\n",
    "print(\"Negative Sentiment example\")\n",
    "print(train_neg_data[0][train_neg_sample_ind])"
   ]
  },
  {
   "cell_type": "markdown",
   "metadata": {},
   "source": [
    "Split the data into training and validation sets. We'll create a validation test set with 10% of the data. "
   ]
  },
  {
   "cell_type": "code",
   "execution_count": 7,
   "metadata": {},
   "outputs": [],
   "source": [
    "train_texts, val_texts, train_labels, val_labels = train_test_split(train_texts, train_labels, test_size=0.1,\n",
    "                                                                    random_state=42)"
   ]
  },
  {
   "cell_type": "markdown",
   "metadata": {},
   "source": [
    "We can also figure out the word frequencies from our dataset! The below code will count how frequent each word is in the dataset."
   ]
  },
  {
   "cell_type": "code",
   "execution_count": 8,
   "metadata": {},
   "outputs": [
    {
     "name": "stderr",
     "output_type": "stream",
     "text": [
      "100%|██████████| 50000/50000 [01:00<00:00, 821.64it/s]\n"
     ]
    }
   ],
   "source": [
    "from collections import defaultdict\n",
    "\n",
    "word_counts = defaultdict(int)\n",
    "\n",
    "# Compute the frequency of each unique\n",
    "for text in tqdm(train_texts + val_texts + test_texts):\n",
    "    # Splits sentences \n",
    "    for word in word_tokenize(text):\n",
    "        word_counts[word] += 1"
   ]
  },
  {
   "cell_type": "code",
   "execution_count": 18,
   "metadata": {},
   "outputs": [
    {
     "name": "stdout",
     "output_type": "stream",
     "text": [
      "100 Most frequent words\n",
      "the : 572555\n",
      ". : 464055\n",
      "a : 308569\n",
      "and : 307390\n",
      "of : 284990\n",
      "to : 263469\n",
      "is : 208232\n",
      "in : 172889\n",
      "I : 143088\n",
      "that : 132406\n",
      "it : 129402\n",
      "br : 120118\n",
      "this : 120033\n",
      "was : 94612\n",
      "The : 88649\n",
      "as : 84731\n",
      "with : 84522\n",
      "movie : 82646\n",
      "for : 82464\n",
      "film : 73666\n",
      "but : 67998\n",
      "on : 64518\n",
      "are : 57626\n",
      "not : 56836\n",
      "have : 54601\n",
      "his : 54509\n",
      "you : 53835\n",
      "be : 52321\n",
      "! : 49164\n",
      "one : 46411\n",
      "at : 43261\n",
      "by : 42797\n",
      "he : 42732\n",
      "an : 41316\n",
      "all : 41050\n",
      "who : 38857\n",
      "from : 38596\n",
      "like : 37546\n",
      "its : 35987\n",
      "they : 35587\n",
      "so : 34132\n",
      "or : 33799\n",
      "about : 33497\n",
      "her : 32916\n",
      "just : 32726\n",
      "has : 32698\n",
      "? : 32338\n",
      "out : 32303\n",
      "This : 29190\n",
      "some : 28447\n",
      "good : 27463\n",
      "more : 27144\n",
      "very : 26330\n",
      "... : 24888\n",
      "what : 24275\n",
      "up : 23951\n",
      "would : 23759\n",
      "It : 23746\n",
      "can : 23382\n",
      "when : 23090\n",
      "time : 22826\n",
      "if : 22763\n",
      "which : 22509\n",
      "really : 22236\n",
      "only : 22055\n",
      "their : 22030\n",
      "see : 21812\n",
      "were : 21772\n",
      "had : 21681\n",
      "even : 21542\n",
      "story : 21449\n",
      "there : 20943\n",
      "no : 20929\n",
      "my : 20586\n",
      "me : 20269\n",
      "she : 19301\n",
      "than : 19107\n",
      "much : 18412\n",
      "been : 18202\n",
      "get : 17783\n",
      "into : 17718\n",
      "will : 17273\n",
      "other : 17125\n",
      "him : 16903\n",
      "bad : 16793\n",
      "because : 16748\n",
      "people : 16720\n",
      "do : 16595\n",
      "great : 16545\n",
      "well : 15933\n",
      "most : 15849\n",
      "we : 15494\n",
      "them : 15344\n",
      "first : 15330\n",
      "made : 15250\n",
      "also : 15195\n",
      "movies : 15123\n",
      "make : 15102\n",
      "how : 15085\n",
      "films : 15075\n"
     ]
    }
   ],
   "source": [
    "print(\"100 Most frequent words\")\n",
    "for word in sorted(word_counts, reverse=True, key=lambda w: word_counts[w])[:100]:\n",
    "    print(word, \":\", word_counts[word])"
   ]
  },
  {
   "cell_type": "markdown",
   "metadata": {},
   "source": [
    "## Vectorization\n",
    "In order to extract information from text, we'll vectorize our word sequences. In other words, we'll transform our sentences into numerical features. There are many vectorization or embedding techniques such as Bag of Words, Pre-Trained word embeddings, but in our case we'll be using **TF-IDF**.\n",
    "\n",
    "TF-IDF stands for \"Term Frequency, Inverse Document Frequency\". It's a technique that converts words into an importance score of each word in the document based on how they appear accros multiple documents. Intuitively, the TF-IDF score of a word is high when it is frequently found in a document. However, if the word appears in many documents, this word is not a unique identifier, and as such, will have a lower score. For example, common words such as \"the\" and \"and\" will have low score since they appear in many documents. \n",
    "\n",
    "Our TF-IDF vectorizer is a little more sophisticated than described above. It not only looks at the TF-IDF scores of individiual words, but also of **bigrams**, pairs of words that occur next to each other in our texts."
   ]
  },
  {
   "cell_type": "code",
   "execution_count": 10,
   "metadata": {},
   "outputs": [],
   "source": [
    "vec = TfidfVectorizer(ngram_range=(1, 2), tokenizer=word_tokenize,\n",
    "                      min_df=3, max_df=0.9, strip_accents='unicode', use_idf=1,\n",
    "                      smooth_idf=1, sublinear_tf=1)"
   ]
  },
  {
   "cell_type": "markdown",
   "metadata": {},
   "source": [
    "We fit our vectorizer to our entire corpus of words, which includes the training, validation, and test sets. Once fitted, we'll transform each subset of the data."
   ]
  },
  {
   "cell_type": "code",
   "execution_count": 11,
   "metadata": {},
   "outputs": [
    {
     "name": "stdout",
     "output_type": "stream",
     "text": [
      "Created Vectorizer TfidfVectorizer(analyzer='word', binary=False, decode_error='strict',\n",
      "        dtype=<class 'numpy.int64'>, encoding='utf-8', input='content',\n",
      "        lowercase=True, max_df=0.9, max_features=None, min_df=3,\n",
      "        ngram_range=(1, 2), norm='l2', preprocessor=None, smooth_idf=1,\n",
      "        stop_words=None, strip_accents='unicode', sublinear_tf=1,\n",
      "        token_pattern='(?u)\\\\b\\\\w\\\\w+\\\\b',\n",
      "        tokenizer=<function word_tokenize at 0x7f819002b510>, use_idf=1,\n",
      "        vocabulary=None)\n",
      "Fitting to all docs...\n",
      "Transforming train docs...\n",
      "Transforming val docs...\n",
      "Transforming test docs...\n"
     ]
    }
   ],
   "source": [
    "print(\"Created Vectorizer %s\" % vec)\n",
    "print(\"Fitting to all docs...\")\n",
    "vec.fit(train_texts + val_texts + test_texts)\n",
    "print(\"Transforming train docs...\")\n",
    "trn_term_doc = vec.transform(train_texts)\n",
    "print(\"Transforming val docs...\")\n",
    "val_term_doc = vec.transform(val_texts)\n",
    "print(\"Transforming test docs...\")\n",
    "test_term_doc = vec.transform(test_texts)"
   ]
  },
  {
   "cell_type": "markdown",
   "metadata": {},
   "source": [
    "# Model\n",
    "\n",
    "## Training our model\n",
    "* First, we use a special kind of SVM model called a Naive-Bayes SVM model. It is based on the [sklearn.svm](http://scikit-learn.org/stable/modules/svm.html#svc) module to create a [vector classifier](http://scikit-learn.org/stable/modules/generated/sklearn.svm.SVC.html).\n",
    "* Next, we pass our training texts and labels to the classifier's fit method, which trains our model.\n",
    "* Finally, the test texts and labels are passed to the score method to see how well we trained our model. This will return a float between 0-1 indicating our accuracy on the test data set\n",
    "\n",
    "### Aside on SVM's (if you don't know what they are)\n",
    "We have 2 colors of balls on the table that we want to separate.\n",
    "![](http://i.imgur.com/zDBbD.png)\n",
    "\n",
    "We get a stick and put it on the table, this works pretty well right?\n",
    "\n",
    "![](http://i.imgur.com/aLZlG.png)\n",
    "\n",
    "Some villain comes and places more balls on the table, it kind of works but one of the balls is on the wrong side and there is probably a better place to put the stick now. What a troll. \n",
    "\n",
    "![](http://i.imgur.com/kxWgh.png)\n",
    "\n",
    "SVMs try to put the stick in the best possible place by having as big a gap on either side of the stick as possible. \n",
    "\n",
    "![](http://i.imgur.com/ePy4V.png)\n",
    "\n",
    "Now when the villain returns, the stick is still in a pretty good spot.\n",
    "\n",
    "![](http://i.imgur.com/BWYYZ.png)\n",
    "\n",
    "There is another trick in the SVM toolbox that is even more important. Say the villain has seen how good you are with a stick so he gives you a new challenge.\n",
    "\n",
    "![](http://i.imgur.com/R9967.png)\n",
    "\n",
    "There’s no stick in the world that will let you split those balls well, so what do you do? You flip the table of course! Throwing the balls into the air. Then, with your pro ninja skills, you grab a sheet of paper and slip it between the balls.\n",
    "\n",
    "![](http://i.imgur.com/WuxyO.png)\n",
    "\n",
    "Now, looking at the balls from where the villain is standing, they balls will look split by some curvy line.\n",
    "\n",
    "![](http://i.imgur.com/gWdPX.png)\n",
    "\n",
    "Boring people the call balls data, the stick a classifier, the biggest gap trick optimization, call flipping the table kernelling and the piece of paper a hyperplane.\n",
    "\n",
    "### But what is a Naive-Bayes SVM?\n",
    "\n",
    "This SVM uses a simple, but clever kernelling trick. It transforms the input by multiplying it with a matrix that holds the log-probabilities of each feature (unigram, bigram, or trigram) being from a positive or negative example. This simple trick can boost the performance of the SVM to be on par with most state-of-the-art deep learning techniques (but this SVM can run on our measly computer)!"
   ]
  },
  {
   "cell_type": "code",
   "execution_count": 25,
   "metadata": {},
   "outputs": [],
   "source": [
    "from sklearn.base import BaseEstimator, ClassifierMixin\n",
    "from sklearn.utils.validation import check_X_y, check_is_fitted\n",
    "from sklearn.svm import LinearSVC\n",
    "from sklearn.linear_model import LogisticRegression\n",
    "\n",
    "class NbSvmClassifier(BaseEstimator, ClassifierMixin):\n",
    "    def __init__(self, C=1.0, dual='auto', verbose=0):\n",
    "        self.C = C\n",
    "        self.dual = dual\n",
    "        self.verbose = verbose\n",
    "        self._clf = None\n",
    "        print(\"Creating model with C=%s\" % C)\n",
    "\n",
    "    def predict(self, x):\n",
    "        # Verify that model has been fit\n",
    "        check_is_fitted(self, ['_r', '_clf'])\n",
    "        return self._clf.predict(x.multiply(self._r))\n",
    "    \n",
    "    def score(self, x, y):\n",
    "        check_is_fitted(self, ['_r', '_clf'])\n",
    "        return self._clf.score(x.multiply(self._r), y)\n",
    "    \n",
    "    def predict_proba(self, x):\n",
    "        check_is_fitted(self, ['_r', '_clf'])\n",
    "        return self._clf.predict_proba(x.multiply(self._r))\n",
    "        \n",
    "    def fit(self, x, y):\n",
    "        # Check that X and y have correct shape\n",
    "        x, y = check_X_y(x, y, accept_sparse=True)\n",
    "\n",
    "        def pr(x, y_i, y):\n",
    "            p = x[y == y_i].sum(0)\n",
    "            return (p + 1) / ((y == y_i).sum() + 1)\n",
    "\n",
    "        self._r = sparse.csr_matrix(np.log(pr(x, 1, y) / pr(x, 0, y)))\n",
    "        x_nb = x.multiply(self._r)\n",
    "        if self.dual == 'auto':\n",
    "            self.dual = x_nb.shape[0] <= x_nb.shape[1]\n",
    "        self._clf = LogisticRegression(C=self.C, dual=self.dual, verbose=self.verbose)\n",
    "        self._clf.fit(x_nb, y)\n",
    "        return self"
   ]
  },
  {
   "cell_type": "markdown",
   "metadata": {},
   "source": [
    "## Finding optimal parameters\n",
    "We'll perform a grid search across the C parameter to find the optimal parameter for our dataset."
   ]
  },
  {
   "cell_type": "code",
   "execution_count": 23,
   "metadata": {
    "scrolled": true
   },
   "outputs": [
    {
     "name": "stdout",
     "output_type": "stream",
     "text": [
      "Fitting with C=0.01\n",
      "Creating model with C=0.01\n",
      "Model had val score of 0.8532\n",
      "New maximum score improved from -inf to 0.8532\n",
      "Fitting with C=0.1\n",
      "Creating model with C=0.1\n",
      "Model had val score of 0.8596\n",
      "New maximum score improved from 0.8532 to 0.8596\n",
      "Fitting with C=1.0\n",
      "Creating model with C=1.0\n",
      "Model had val score of 0.8936\n",
      "New maximum score improved from 0.8596 to 0.8936\n",
      "Fitting with C=10.0\n",
      "Creating model with C=10.0\n",
      "Model had val score of 0.9148\n",
      "New maximum score improved from 0.8936 to 0.9148\n",
      "Fitting with C=100.0\n",
      "Creating model with C=100.0\n",
      "Model had val score of 0.9164\n",
      "New maximum score improved from 0.9148 to 0.9164\n",
      "Best score with C=100.0 is 0.9164\n"
     ]
    }
   ],
   "source": [
    "# Search for the appropriate C\n",
    "Cs = [1e-2, 1e-1, 1e0, 1e1, 1e2]\n",
    "\n",
    "best_model = None\n",
    "best_val = -float(\"inf\")\n",
    "best_C = None\n",
    "for C in Cs:\n",
    "    print(\"Fitting with C={}\".format(C))\n",
    "    model = NbSvmClassifier(C=C, verbose=0).fit(trn_term_doc, train_labels)\n",
    "    # Evaluate the model\n",
    "    val_preds = model.predict(val_term_doc)\n",
    "    score = np.mean(val_labels == val_preds)\n",
    "\n",
    "    print(\"Model had val score of %s\" % score)\n",
    "    if score > best_val:\n",
    "        print(\"New maximum score improved from {} to {}\".format(best_val, score))\n",
    "        best_model = model\n",
    "        best_val = score\n",
    "        best_C = C\n",
    "score = best_val\n",
    "print(\"Best score with C={} is {}\".format(best_C, score))"
   ]
  },
  {
   "cell_type": "markdown",
   "metadata": {},
   "source": [
    "## Test score"
   ]
  },
  {
   "cell_type": "code",
   "execution_count": 24,
   "metadata": {},
   "outputs": [
    {
     "data": {
      "text/plain": [
       "0.91308"
      ]
     },
     "execution_count": 24,
     "metadata": {},
     "output_type": "execute_result"
    }
   ],
   "source": [
    "best_model.score(test_term_doc, test_labels)"
   ]
  },
  {
   "cell_type": "markdown",
   "metadata": {},
   "source": [
    "## Takeaways\n",
    "From this tutorial, we learned how to work with text data and use a basic embedding. In addition, we realize that deep learning isn't always the way to go! We trained a fast and powerful linear-ish model that achieved ~**91**%!"
   ]
  },
  {
   "cell_type": "markdown",
   "metadata": {},
   "source": [
    "## Use LIME to Explain our predictions"
   ]
  },
  {
   "cell_type": "code",
   "execution_count": 26,
   "metadata": {},
   "outputs": [],
   "source": [
    "from lime import lime_text\n",
    "from sklearn.pipeline import make_pipeline\n",
    "c = make_pipeline(vec, best_model)"
   ]
  },
  {
   "cell_type": "code",
   "execution_count": 27,
   "metadata": {},
   "outputs": [
    {
     "data": {
      "text/plain": [
       "array([[0.10215365, 0.89784635]])"
      ]
     },
     "execution_count": 27,
     "metadata": {},
     "output_type": "execute_result"
    }
   ],
   "source": [
    "c.predict_proba([test_texts[0]])"
   ]
  },
  {
   "cell_type": "code",
   "execution_count": 32,
   "metadata": {},
   "outputs": [],
   "source": [
    "from lime.lime_text import LimeTextExplainer\n",
    "class_names = [\"negative\", \"positive\"]\n",
    "explainer = LimeTextExplainer(class_names=class_names)"
   ]
  },
  {
   "cell_type": "code",
   "execution_count": 34,
   "metadata": {},
   "outputs": [
    {
     "name": "stderr",
     "output_type": "stream",
     "text": [
      "/home/abhmul/.conda/envs/dl/lib/python3.6/re.py:212: FutureWarning: split() requires a non-empty pattern match.\n",
      "  return _compile(pattern, flags).split(string, maxsplit)\n"
     ]
    },
    {
     "name": "stdout",
     "output_type": "stream",
     "text": [
      "Document id: 83\n",
      "Probability(positive) = 0.9973952074379704\n",
      "True class: positive\n"
     ]
    }
   ],
   "source": [
    "idx = 83\n",
    "exp = explainer.explain_instance(test_texts[idx], c.predict_proba, num_features=6)\n",
    "print('Document id: %d' % idx)\n",
    "print('Probability(positive) =', c.predict_proba([test_texts[idx]])[0,1])\n",
    "print('True class: %s' % class_names[test_labels[idx]])"
   ]
  },
  {
   "cell_type": "code",
   "execution_count": 35,
   "metadata": {
    "scrolled": true
   },
   "outputs": [
    {
     "data": {
      "text/plain": [
       "[('810', 0.13494734271430656),\n",
       " ('favorite', 0.07177037644747612),\n",
       " ('hilarious', 0.041643969385283974),\n",
       " ('beautiful', 0.03616023364942977),\n",
       " ('easy', 0.031017250463696827),\n",
       " ('hoping', -0.027000732521257453)]"
      ]
     },
     "execution_count": 35,
     "metadata": {},
     "output_type": "execute_result"
    }
   ],
   "source": [
    "exp.as_list()"
   ]
  },
  {
   "cell_type": "code",
   "execution_count": 38,
   "metadata": {},
   "outputs": [
    {
     "data": {
      "image/png": "[encoded data removed]",
      "text/plain": [
       "<Figure size 432x288 with 1 Axes>"
      ]
     },
     "metadata": {},
     "output_type": "display_data"
    }
   ],
   "source": [
    "%matplotlib inline\n",
    "fig = exp.as_pyplot_figure()"
   ]
  }
 ],
 "metadata": {
  "kernelspec": {
   "display_name": "Python 3",
   "language": "python",
   "name": "python3"
  },
  "language_info": {
   "codemirror_mode": {
    "name": "ipython",
    "version": 3
   },
   "file_extension": ".py",
   "mimetype": "text/x-python",
   "name": "python",
   "nbconvert_exporter": "python",
   "pygments_lexer": "ipython3",
   "version": "3.6.6"
  }
 },
 "nbformat": 4,
 "nbformat_minor": 2
}
